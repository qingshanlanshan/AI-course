{
 "cells": [
  {
   "attachments": {},
   "cell_type": "markdown",
   "metadata": {},
   "source": [
    "# CNN Network \n",
    "\n",
    "# Environment Init"
   ]
  },
  {
   "cell_type": "code",
   "execution_count": 8,
   "metadata": {},
   "outputs": [
    {
     "name": "stdout",
     "output_type": "stream",
     "text": [
      "/Users/jiaruiye/Desktop/FDU/专业课程/必修课程/人工智能/test_data\n",
      "1.13.1\n",
      "0.13.1a0\n"
     ]
    }
   ],
   "source": [
    "import torch\n",
    "import torch.nn.functional as F\n",
    "import os\n",
    "# import cv2 as cv\n",
    "import numpy as np\n",
    "from typing import Tuple\n",
    "import torchvision\n",
    "from torch.utils.data import DataLoader\n",
    "import torchvision.transforms as transforms\n",
    "from torchvision.datasets import ImageFolder\n",
    "from matplotlib import pyplot as plt\n",
    "   \n",
    "curPath=os.path.abspath('')\n",
    "trainPath=curPath+\"/../train\"\n",
    "trainPath=\"/Users/jiaruiye/Desktop/FDU/专业课程/必修课程/人工智能/test_data\"\n",
    "print(trainPath)\n",
    "print(torch.__version__)\n",
    "print(torchvision.__version__)\n"
   ]
  },
  {
   "attachments": {},
   "cell_type": "markdown",
   "metadata": {},
   "source": [
    "# Create Train Set & Test Set"
   ]
  },
  {
   "cell_type": "code",
   "execution_count": 9,
   "metadata": {},
   "outputs": [
    {
     "name": "stdout",
     "output_type": "stream",
     "text": [
      "2592\n",
      "288\n"
     ]
    }
   ],
   "source": [
    "BATCH_SIZE=512 \n",
    "EPOCHS=20\n",
    "# DEVICE = torch.device(\"cuda\" if torch.cuda.is_available() else \"cpu\") \n",
    "DEVICE = torch.device(\"mps\") \n",
    "transform = transforms.Compose([\n",
    "    # transforms.Resize((224, 224)),\n",
    "    transforms.ToTensor(),\n",
    "    transforms.Normalize(mean=[0.8874], std=[0.3159]),\n",
    "    transforms.Grayscale(num_output_channels=1)\n",
    "])\n",
    "\n",
    "# Load the dataset using ImageFolder\n",
    "dataset = ImageFolder(root=trainPath, transform=transform)\n",
    "\n",
    "# loader = torch.utils.data.DataLoader(dataset, batch_size=len(dataset))\n",
    "# data = next(iter(loader))\n",
    "# mean, std = data[0].mean(), data[0].std()\n",
    "\n",
    "# print(\"Mean:\", mean)\n",
    "# print(\"Std:\", std)\n",
    "\n",
    "trainSet,testSet=torch.utils.data.random_split(dataset,[int(len(dataset)*0.9),len(dataset)-int(len(dataset)*0.9)])\n",
    "print(len(trainSet))\n",
    "print(len(testSet))\n",
    "trainLoader=DataLoader(\n",
    "    trainSet,\n",
    "    batch_size=BATCH_SIZE,\n",
    "    shuffle=True\n",
    " )\n",
    "testLoader=DataLoader(\n",
    "    testSet,\n",
    "    batch_size=BATCH_SIZE,\n",
    "    shuffle=True\n",
    ")"
   ]
  },
  {
   "attachments": {},
   "cell_type": "markdown",
   "metadata": {},
   "source": [
    "# Net Structure"
   ]
  },
  {
   "cell_type": "code",
   "execution_count": 10,
   "metadata": {},
   "outputs": [],
   "source": [
    "class ConvNet(torch.nn.Module):\n",
    "    def __init__(self):\n",
    "        super().__init__()\n",
    "\n",
    "        self.conv1 = torch.nn.Conv2d(in_channels=1, out_channels=12, kernel_size=5) \n",
    "        self.conv2 = torch.nn.Conv2d(in_channels=12, out_channels=24, kernel_size=3) \n",
    "        self.dropout = torch.nn.Dropout(p=0.5)\n",
    "        self.ln1 = torch.nn.Linear(in_features=24*10*10, out_features=512)\n",
    "        self.ln2 = torch.nn.Linear(in_features=512, out_features=12) \n",
    "    def forward(self,x):\n",
    "        # Size without cropping\n",
    "        in_size = x.size(0) # batch_size=512\n",
    "        out = self.conv1(x) # 1*28*28 -> 12*24*24 kernel_size=5\n",
    "        out = F.relu(out) # 12*24*24\n",
    "        out = F.max_pool2d(out, 2, 2) # 12*24*24 -> 12*12*12 pooling\n",
    "        out = self.conv2(out) # 12*12*12 -> 24*10*10 kernel_size=3\n",
    "        out = F.relu(out) # 24*10*10\n",
    "        out = out.view(in_size, -1) # 24*10*10 -> 2400 Flatten\n",
    "        out = self.ln1(out) # 2400 -> 512\n",
    "        out = F.relu(out) # 512\n",
    "        # out = self.dropout(out)\n",
    "        out = self.ln2(out) # 512 -> 12\n",
    "        out = F.log_softmax(out, dim=1)\n",
    "        return out"
   ]
  },
  {
   "attachments": {},
   "cell_type": "markdown",
   "metadata": {},
   "source": [
    "# Optimizer"
   ]
  },
  {
   "cell_type": "code",
   "execution_count": 11,
   "metadata": {},
   "outputs": [
    {
     "name": "stdout",
     "output_type": "stream",
     "text": [
      "ConvNet(\n",
      "  (conv1): Conv2d(1, 12, kernel_size=(5, 5), stride=(1, 1))\n",
      "  (conv2): Conv2d(12, 24, kernel_size=(3, 3), stride=(1, 1))\n",
      "  (dropout): Dropout(p=0.5, inplace=False)\n",
      "  (ln1): Linear(in_features=2400, out_features=512, bias=True)\n",
      "  (ln2): Linear(in_features=512, out_features=12, bias=True)\n",
      ")\n"
     ]
    }
   ],
   "source": [
    "model = ConvNet().to(DEVICE)\n",
    "# Define the optimizer\n",
    "\n",
    "optimizer = torch.optim.Adam(model.parameters(), lr=0.005)\n",
    "\n",
    "# optimizer = torch.optim.SGD(model.parameters(), lr=0.005, momentum=0.9)\n",
    "print(model)"
   ]
  },
  {
   "attachments": {},
   "cell_type": "markdown",
   "metadata": {},
   "source": [
    "# Train and Test"
   ]
  },
  {
   "cell_type": "code",
   "execution_count": 12,
   "metadata": {},
   "outputs": [],
   "source": [
    "lossArray=[]\n",
    "accuracyArray=[]\n",
    "def train(model, device, train_loader, optimizer, epoch):\n",
    "    model.train()\n",
    "    for batch_idx, (data, target) in enumerate(train_loader):\n",
    "        data, target = data.to(device), target.to(device)\n",
    "        optimizer.zero_grad()\n",
    "        output = model(data)\n",
    "        loss = F.nll_loss(output, target)\n",
    "        loss.backward()\n",
    "        optimizer.step()\n",
    "        if(batch_idx+1)%5 == 0 or batch_idx==13: \n",
    "            print('Train Epoch: {} [{}/{} ({:.0f}%)]\\tLoss: {:.6f}'.format(\n",
    "                epoch, batch_idx * len(data), len(train_loader.dataset),\n",
    "                100. * batch_idx / len(train_loader), loss.item()))\n",
    "            \n",
    "def test(model, device, test_loader):\n",
    "    model.eval()\n",
    "    test_loss = 0\n",
    "    correct = 0\n",
    "    # 不自动求导\n",
    "    with torch.no_grad():\n",
    "        for data, target in test_loader:\n",
    "            data, target = data.to(device), target.to(device)\n",
    "            output = model(data)\n",
    "            test_loss += F.nll_loss(output, target, reduction='sum').item() # sum up batch loss\n",
    "            pred = output.max(1, keepdim=True)[1] # get the index of the max log-probability\n",
    "            correct += pred.eq(target.view_as(pred)).sum().item() # sum up the correct number\n",
    "\n",
    "    test_loss /= len(test_loader.dataset)\n",
    "    print('\\nTest set: Average loss: {:.4f}, Accuracy: {}/{} ({:.2f}%)\\n'.format(\n",
    "        test_loss, correct, len(test_loader.dataset),\n",
    "        100. * correct / len(test_loader.dataset)))\n",
    "    lossArray.append(test_loss)\n",
    "    accuracyArray.append(100. * correct / len(test_loader.dataset))"
   ]
  },
  {
   "attachments": {},
   "cell_type": "markdown",
   "metadata": {},
   "source": [
    "# Load Model"
   ]
  },
  {
   "cell_type": "code",
   "execution_count": 13,
   "metadata": {},
   "outputs": [
    {
     "data": {
      "text/plain": [
       "<All keys matched successfully>"
      ]
     },
     "execution_count": 13,
     "metadata": {},
     "output_type": "execute_result"
    }
   ],
   "source": [
    "# load the saved model\n",
    "model.load_state_dict(torch.load('98-25-cnnCharacterClassificaion.pt'))"
   ]
  },
  {
   "attachments": {},
   "cell_type": "markdown",
   "metadata": {},
   "source": [
    "# Test Only"
   ]
  },
  {
   "cell_type": "code",
   "execution_count": 14,
   "metadata": {},
   "outputs": [
    {
     "name": "stdout",
     "output_type": "stream",
     "text": [
      "\n",
      "Test set: Average loss: 0.2370, Accuracy: 277/288 (96.18%)\n",
      "\n"
     ]
    }
   ],
   "source": [
    "test(model, DEVICE, testLoader)"
   ]
  },
  {
   "attachments": {},
   "cell_type": "markdown",
   "metadata": {},
   "source": [
    "# Main"
   ]
  },
  {
   "cell_type": "code",
   "execution_count": 104,
   "metadata": {},
   "outputs": [],
   "source": [
    "optimizer = torch.optim.Adam(model.parameters(), lr=0.005)\n",
    "\n",
    "# optimizer = torch.optim.SGD(model.parameters(), lr=0.0005, momentum=0.9)"
   ]
  },
  {
   "cell_type": "code",
   "execution_count": 105,
   "metadata": {},
   "outputs": [
    {
     "name": "stdout",
     "output_type": "stream",
     "text": [
      "Train Epoch: 0 [2048/6696 (29%)]\tLoss: 2.317177\n",
      "Train Epoch: 0 [4608/6696 (64%)]\tLoss: 1.174727\n",
      "Train Epoch: 0 [520/6696 (93%)]\tLoss: 0.579630\n",
      "\n",
      "Test set: Average loss: 0.6777, Accuracy: 588/744 (79.03%)\n",
      "\n",
      "Train Epoch: 1 [2048/6696 (29%)]\tLoss: 0.482130\n",
      "Train Epoch: 1 [4608/6696 (64%)]\tLoss: 0.330655\n",
      "Train Epoch: 1 [520/6696 (93%)]\tLoss: 0.166098\n",
      "\n",
      "Test set: Average loss: 0.2648, Accuracy: 691/744 (92.88%)\n",
      "\n",
      "Train Epoch: 2 [2048/6696 (29%)]\tLoss: 0.185609\n",
      "Train Epoch: 2 [4608/6696 (64%)]\tLoss: 0.181800\n",
      "Train Epoch: 2 [520/6696 (93%)]\tLoss: 0.061458\n",
      "\n",
      "Test set: Average loss: 0.1660, Accuracy: 708/744 (95.16%)\n",
      "\n",
      "Train Epoch: 3 [2048/6696 (29%)]\tLoss: 0.078514\n",
      "Train Epoch: 3 [4608/6696 (64%)]\tLoss: 0.072753\n",
      "Train Epoch: 3 [520/6696 (93%)]\tLoss: 0.039899\n",
      "\n",
      "Test set: Average loss: 0.1181, Accuracy: 722/744 (97.04%)\n",
      "\n",
      "Train Epoch: 4 [2048/6696 (29%)]\tLoss: 0.030352\n",
      "Train Epoch: 4 [4608/6696 (64%)]\tLoss: 0.037622\n",
      "Train Epoch: 4 [520/6696 (93%)]\tLoss: 0.003897\n",
      "\n",
      "Test set: Average loss: 0.1362, Accuracy: 716/744 (96.24%)\n",
      "\n",
      "Train Epoch: 5 [2048/6696 (29%)]\tLoss: 0.015467\n",
      "Train Epoch: 5 [4608/6696 (64%)]\tLoss: 0.036660\n",
      "Train Epoch: 5 [520/6696 (93%)]\tLoss: 0.001443\n",
      "\n",
      "Test set: Average loss: 0.1090, Accuracy: 721/744 (96.91%)\n",
      "\n",
      "Train Epoch: 6 [2048/6696 (29%)]\tLoss: 0.005258\n",
      "Train Epoch: 6 [4608/6696 (64%)]\tLoss: 0.008940\n",
      "Train Epoch: 6 [520/6696 (93%)]\tLoss: 0.051405\n",
      "\n",
      "Test set: Average loss: 0.1076, Accuracy: 726/744 (97.58%)\n",
      "\n",
      "Train Epoch: 7 [2048/6696 (29%)]\tLoss: 0.012553\n",
      "Train Epoch: 7 [4608/6696 (64%)]\tLoss: 0.024718\n",
      "Train Epoch: 7 [520/6696 (93%)]\tLoss: 0.005951\n",
      "\n",
      "Test set: Average loss: 0.1097, Accuracy: 725/744 (97.45%)\n",
      "\n",
      "Train Epoch: 8 [2048/6696 (29%)]\tLoss: 0.006699\n",
      "Train Epoch: 8 [4608/6696 (64%)]\tLoss: 0.004353\n",
      "Train Epoch: 8 [520/6696 (93%)]\tLoss: 0.004975\n",
      "\n",
      "Test set: Average loss: 0.1196, Accuracy: 726/744 (97.58%)\n",
      "\n",
      "Train Epoch: 9 [2048/6696 (29%)]\tLoss: 0.003699\n",
      "Train Epoch: 9 [4608/6696 (64%)]\tLoss: 0.002543\n",
      "Train Epoch: 9 [520/6696 (93%)]\tLoss: 0.000173\n",
      "\n",
      "Test set: Average loss: 0.1166, Accuracy: 727/744 (97.72%)\n",
      "\n",
      "Train Epoch: 10 [2048/6696 (29%)]\tLoss: 0.001367\n",
      "Train Epoch: 10 [4608/6696 (64%)]\tLoss: 0.000994\n",
      "Train Epoch: 10 [520/6696 (93%)]\tLoss: 0.000178\n",
      "\n",
      "Test set: Average loss: 0.1177, Accuracy: 729/744 (97.98%)\n",
      "\n",
      "Train Epoch: 11 [2048/6696 (29%)]\tLoss: 0.000567\n",
      "Train Epoch: 11 [4608/6696 (64%)]\tLoss: 0.000373\n",
      "Train Epoch: 11 [520/6696 (93%)]\tLoss: 0.000114\n",
      "\n",
      "Test set: Average loss: 0.1098, Accuracy: 727/744 (97.72%)\n",
      "\n",
      "Train Epoch: 12 [2048/6696 (29%)]\tLoss: 0.000356\n",
      "Train Epoch: 12 [4608/6696 (64%)]\tLoss: 0.000361\n",
      "Train Epoch: 12 [520/6696 (93%)]\tLoss: 0.000486\n",
      "\n",
      "Test set: Average loss: 0.1116, Accuracy: 728/744 (97.85%)\n",
      "\n",
      "Train Epoch: 13 [2048/6696 (29%)]\tLoss: 0.000342\n",
      "Train Epoch: 13 [4608/6696 (64%)]\tLoss: 0.000196\n",
      "Train Epoch: 13 [520/6696 (93%)]\tLoss: 0.000545\n",
      "\n",
      "Test set: Average loss: 0.1146, Accuracy: 728/744 (97.85%)\n",
      "\n",
      "Train Epoch: 14 [2048/6696 (29%)]\tLoss: 0.000140\n",
      "Train Epoch: 14 [4608/6696 (64%)]\tLoss: 0.000281\n",
      "Train Epoch: 14 [520/6696 (93%)]\tLoss: 0.001119\n",
      "\n",
      "Test set: Average loss: 0.1137, Accuracy: 728/744 (97.85%)\n",
      "\n",
      "Train Epoch: 15 [2048/6696 (29%)]\tLoss: 0.000254\n",
      "Train Epoch: 15 [4608/6696 (64%)]\tLoss: 0.000162\n",
      "Train Epoch: 15 [520/6696 (93%)]\tLoss: 0.000189\n",
      "\n",
      "Test set: Average loss: 0.1142, Accuracy: 729/744 (97.98%)\n",
      "\n",
      "Train Epoch: 16 [2048/6696 (29%)]\tLoss: 0.000238\n",
      "Train Epoch: 16 [4608/6696 (64%)]\tLoss: 0.000235\n",
      "Train Epoch: 16 [520/6696 (93%)]\tLoss: 0.000133\n",
      "\n",
      "Test set: Average loss: 0.1158, Accuracy: 729/744 (97.98%)\n",
      "\n",
      "Train Epoch: 17 [2048/6696 (29%)]\tLoss: 0.000132\n",
      "Train Epoch: 17 [4608/6696 (64%)]\tLoss: 0.000103\n",
      "Train Epoch: 17 [520/6696 (93%)]\tLoss: 0.000293\n",
      "\n",
      "Test set: Average loss: 0.1174, Accuracy: 730/744 (98.12%)\n",
      "\n",
      "Train Epoch: 18 [2048/6696 (29%)]\tLoss: 0.000110\n",
      "Train Epoch: 18 [4608/6696 (64%)]\tLoss: 0.000091\n",
      "Train Epoch: 18 [520/6696 (93%)]\tLoss: 0.000201\n",
      "\n",
      "Test set: Average loss: 0.1170, Accuracy: 731/744 (98.25%)\n",
      "\n",
      "Train Epoch: 19 [2048/6696 (29%)]\tLoss: 0.000182\n",
      "Train Epoch: 19 [4608/6696 (64%)]\tLoss: 0.000054\n",
      "Train Epoch: 19 [520/6696 (93%)]\tLoss: 0.000085\n",
      "\n",
      "Test set: Average loss: 0.1177, Accuracy: 729/744 (97.98%)\n",
      "\n"
     ]
    }
   ],
   "source": [
    "for epoch in range(20):\n",
    "    train(model, DEVICE, trainLoader, optimizer, epoch)\n",
    "    test(model, DEVICE, testLoader)"
   ]
  },
  {
   "attachments": {},
   "cell_type": "markdown",
   "metadata": {},
   "source": [
    "# Dump Model"
   ]
  },
  {
   "cell_type": "code",
   "execution_count": 91,
   "metadata": {},
   "outputs": [],
   "source": [
    "# save the model\n",
    "torch.save(model.state_dict(), '98-25-cnnCharacterClassificaion.pt')"
   ]
  },
  {
   "attachments": {},
   "cell_type": "markdown",
   "metadata": {},
   "source": [
    "# Figure"
   ]
  },
  {
   "cell_type": "code",
   "execution_count": 106,
   "metadata": {},
   "outputs": [
    {
     "data": {
      "image/png": "[encoded data removed]",
      "text/plain": [
       "<Figure size 432x288 with 2 Axes>"
      ]
     },
     "metadata": {
      "needs_background": "light"
     },
     "output_type": "display_data"
    }
   ],
   "source": [
    "stepArray=[i+1 for i in range(EPOCHS)]\n",
    "fig = plt.figure()\n",
    "# plt.plot(stepArray,lossArray)\n",
    "ax1 = fig.add_subplot(121)\n",
    "l1=ax1.plot(stepArray, lossArray, color='red', label='Loss')\n",
    "plt.title('Loss')\n",
    "plt.legend()\n",
    "\n",
    "ax2=fig.add_subplot(122)\n",
    "l2=ax2.plot(stepArray,accuracyArray,color='blue',label='Accuracy')\n",
    "plt.title('Accuracy')\n",
    "plt.legend()\n",
    "plt.show()"
   ]
  }
 ],
 "metadata": {
  "kernelspec": {
   "display_name": "pytorch",
   "language": "python",
   "name": "python3"
  },
  "language_info": {
   "codemirror_mode": {
    "name": "ipython",
    "version": 3
   },
   "file_extension": ".py",
   "mimetype": "text/x-python",
   "name": "python",
   "nbconvert_exporter": "python",
   "pygments_lexer": "ipython3",
   "version": "3.7.16"
  },
  "orig_nbformat": 4
 },
 "nbformat": 4,
 "nbformat_minor": 2
}
