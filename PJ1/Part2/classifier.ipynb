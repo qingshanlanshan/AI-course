{
 "cells": [
  {
   "attachments": {},
   "cell_type": "markdown",
   "metadata": {},
   "source": [
    "# CNN Network \n",
    "\n",
    "# Environment Init"
   ]
  },
  {
   "cell_type": "code",
   "execution_count": 118,
   "metadata": {},
   "outputs": [
    {
     "name": "stdout",
     "output_type": "stream",
     "text": [
      "/Users/jiaruiye/Desktop/FDU/专业课程/必修课程/人工智能/Projects/PJ1/Part2/../train\n",
      "1.13.1\n",
      "0.13.1a0\n"
     ]
    }
   ],
   "source": [
    "import torch\n",
    "import torch.nn.functional as F\n",
    "import os\n",
    "# import cv2 as cv\n",
    "import numpy as np\n",
    "from typing import Tuple\n",
    "import torchvision\n",
    "from torch.utils.data import DataLoader\n",
    "import torchvision.transforms as transforms\n",
    "from torchvision.datasets import ImageFolder\n",
    "from matplotlib import pyplot as plt\n",
    "   \n",
    "curPath=os.path.abspath('')\n",
    "trainPath=curPath+\"/../train\"\n",
    "print(trainPath)\n",
    "print(torch.__version__)\n",
    "print(torchvision.__version__)\n"
   ]
  },
  {
   "attachments": {},
   "cell_type": "markdown",
   "metadata": {},
   "source": [
    "# Create Train Set & Test Set"
   ]
  },
  {
   "cell_type": "code",
   "execution_count": 119,
   "metadata": {},
   "outputs": [
    {
     "name": "stdout",
     "output_type": "stream",
     "text": [
      "6696\n",
      "744\n"
     ]
    }
   ],
   "source": [
    "BATCH_SIZE=512 \n",
    "EPOCHS=20\n",
    "# DEVICE = torch.device(\"cuda\" if torch.cuda.is_available() else \"cpu\") \n",
    "DEVICE = torch.device(\"mps\") \n",
    "transform = transforms.Compose([\n",
    "    # transforms.Resize((224, 224)),\n",
    "    transforms.ToTensor(),\n",
    "    transforms.Normalize(mean=[0.8874], std=[0.3159]),\n",
    "    transforms.Grayscale(num_output_channels=1)\n",
    "])\n",
    "\n",
    "# Load the dataset using ImageFolder\n",
    "dataset = ImageFolder(root=trainPath, transform=transform)\n",
    "\n",
    "# loader = torch.utils.data.DataLoader(dataset, batch_size=len(dataset))\n",
    "# data = next(iter(loader))\n",
    "# mean, std = data[0].mean(), data[0].std()\n",
    "\n",
    "# print(\"Mean:\", mean)\n",
    "# print(\"Std:\", std)\n",
    "\n",
    "trainSet,testSet=torch.utils.data.random_split(dataset,[int(len(dataset)*0.9),len(dataset)-int(len(dataset)*0.9)])\n",
    "print(len(trainSet))\n",
    "print(len(testSet))\n",
    "trainLoader=DataLoader(\n",
    "    trainSet,\n",
    "    batch_size=BATCH_SIZE,\n",
    "    shuffle=True\n",
    " )\n",
    "testLoader=DataLoader(\n",
    "    testSet,\n",
    "    batch_size=BATCH_SIZE,\n",
    "    shuffle=True\n",
    ")"
   ]
  },
  {
   "attachments": {},
   "cell_type": "markdown",
   "metadata": {},
   "source": [
    "# Net Structure"
   ]
  },
  {
   "cell_type": "code",
   "execution_count": 120,
   "metadata": {},
   "outputs": [],
   "source": [
    "class ConvNet(torch.nn.Module):\n",
    "    def __init__(self):\n",
    "        super().__init__()\n",
    "\n",
    "        self.conv1 = torch.nn.Conv2d(in_channels=1, out_channels=12, kernel_size=5) \n",
    "        self.conv2 = torch.nn.Conv2d(in_channels=12, out_channels=24, kernel_size=3) \n",
    "        self.dropout = torch.nn.Dropout(p=0.5)\n",
    "        self.ln1 = torch.nn.Linear(in_features=24*10*10, out_features=512)\n",
    "        self.ln2 = torch.nn.Linear(in_features=512, out_features=12) \n",
    "    def forward(self,x):\n",
    "        # Size without cropping\n",
    "        in_size = x.size(0) # batch_size=512\n",
    "        out = self.conv1(x) # 1*28*28 -> 12*24*24 kernel_size=5\n",
    "        out = F.relu(out) # 12*24*24\n",
    "        out = F.max_pool2d(out, 2, 2) # 12*24*24 -> 12*12*12 pooling\n",
    "        out = self.conv2(out) # 12*12*12 -> 24*10*10 kernel_size=3\n",
    "        out = F.relu(out) # 24*10*10\n",
    "        out = out.view(in_size, -1) # 24*10*10 -> 2400 Flatten\n",
    "        out = self.ln1(out) # 2400 -> 512\n",
    "        out = F.relu(out) # 512\n",
    "        # out = self.dropout(out)\n",
    "        out = self.ln2(out) # 512 -> 12\n",
    "        out = F.log_softmax(out, dim=1)\n",
    "        return out"
   ]
  },
  {
   "attachments": {},
   "cell_type": "markdown",
   "metadata": {},
   "source": [
    "# Optimizer"
   ]
  },
  {
   "cell_type": "code",
   "execution_count": 121,
   "metadata": {},
   "outputs": [
    {
     "name": "stdout",
     "output_type": "stream",
     "text": [
      "ConvNet(\n",
      "  (conv1): Conv2d(1, 12, kernel_size=(5, 5), stride=(1, 1))\n",
      "  (conv2): Conv2d(12, 24, kernel_size=(3, 3), stride=(1, 1))\n",
      "  (dropout): Dropout(p=0.5, inplace=False)\n",
      "  (ln1): Linear(in_features=2400, out_features=512, bias=True)\n",
      "  (ln2): Linear(in_features=512, out_features=12, bias=True)\n",
      ")\n"
     ]
    }
   ],
   "source": [
    "model = ConvNet().to(DEVICE)\n",
    "# Define the optimizer\n",
    "\n",
    "optimizer = torch.optim.Adam(model.parameters())\n",
    "\n",
    "# optimizer = torch.optim.SGD(model.parameters(), lr=0.005, momentum=0.9)\n",
    "print(model)"
   ]
  },
  {
   "attachments": {},
   "cell_type": "markdown",
   "metadata": {},
   "source": [
    "# Train and Test"
   ]
  },
  {
   "cell_type": "code",
   "execution_count": 122,
   "metadata": {},
   "outputs": [],
   "source": [
    "lossArray=[]\n",
    "accuracyArray=[]\n",
    "def train(model, device, train_loader, optimizer, epoch):\n",
    "    model.train()\n",
    "    for batch_idx, (data, target) in enumerate(train_loader):\n",
    "        data, target = data.to(device), target.to(device)\n",
    "        optimizer.zero_grad()\n",
    "        output = model(data)\n",
    "        loss = F.nll_loss(output, target)\n",
    "        loss.backward()\n",
    "        optimizer.step()\n",
    "        if(batch_idx+1)%5 == 0 or batch_idx==13: \n",
    "            print('Train Epoch: {} [{}/{} ({:.0f}%)]\\tLoss: {:.6f}'.format(\n",
    "                epoch, batch_idx * len(data), len(train_loader.dataset),\n",
    "                100. * batch_idx / len(train_loader), loss.item()))\n",
    "            \n",
    "def test(model, device, test_loader):\n",
    "    model.eval()\n",
    "    test_loss = 0\n",
    "    correct = 0\n",
    "    # 不自动求导\n",
    "    with torch.no_grad():\n",
    "        for data, target in test_loader:\n",
    "            data, target = data.to(device), target.to(device)\n",
    "            output = model(data)\n",
    "            test_loss += F.nll_loss(output, target, reduction='sum').item() # sum up batch loss\n",
    "            pred = output.max(1, keepdim=True)[1] # 找到概率最大的下标\n",
    "            correct += pred.eq(target.view_as(pred)).sum().item() # sum up the correct number\n",
    "\n",
    "    test_loss /= len(test_loader.dataset)\n",
    "    print('\\nTest set: Average loss: {:.4f}, Accuracy: {}/{} ({:.0f}%)\\n'.format(\n",
    "        test_loss, correct, len(test_loader.dataset),\n",
    "        100. * correct / len(test_loader.dataset)))\n",
    "    lossArray.append(test_loss)\n",
    "    accuracyArray.append(100. * correct / len(test_loader.dataset))"
   ]
  },
  {
   "attachments": {},
   "cell_type": "markdown",
   "metadata": {},
   "source": [
    "# Load Model"
   ]
  },
  {
   "cell_type": "code",
   "execution_count": 116,
   "metadata": {},
   "outputs": [
    {
     "data": {
      "text/plain": [
       "<All keys matched successfully>"
      ]
     },
     "execution_count": 116,
     "metadata": {},
     "output_type": "execute_result"
    }
   ],
   "source": [
    "# load the saved model\n",
    "model.load_state_dict(torch.load('cnnCharacterClassificaion.pt'))"
   ]
  },
  {
   "attachments": {},
   "cell_type": "markdown",
   "metadata": {},
   "source": [
    "# Main"
   ]
  },
  {
   "cell_type": "code",
   "execution_count": 123,
   "metadata": {},
   "outputs": [
    {
     "name": "stdout",
     "output_type": "stream",
     "text": [
      "Train Epoch: 1 [2048/6696 (29%)]\tLoss: 1.874105\n",
      "Train Epoch: 1 [4608/6696 (64%)]\tLoss: 0.989093\n",
      "Train Epoch: 1 [520/6696 (93%)]\tLoss: 0.565997\n",
      "\n",
      "Test set: Average loss: 0.6855, Accuracy: 593/744 (80%)\n",
      "\n",
      "Train Epoch: 2 [2048/6696 (29%)]\tLoss: 0.571090\n",
      "Train Epoch: 2 [4608/6696 (64%)]\tLoss: 0.534826\n",
      "Train Epoch: 2 [520/6696 (93%)]\tLoss: 0.303656\n",
      "\n",
      "Test set: Average loss: 0.4563, Accuracy: 651/744 (88%)\n",
      "\n",
      "Train Epoch: 3 [2048/6696 (29%)]\tLoss: 0.355667\n",
      "Train Epoch: 3 [4608/6696 (64%)]\tLoss: 0.311620\n",
      "Train Epoch: 3 [520/6696 (93%)]\tLoss: 0.244401\n",
      "\n",
      "Test set: Average loss: 0.3300, Accuracy: 680/744 (91%)\n",
      "\n",
      "Train Epoch: 4 [2048/6696 (29%)]\tLoss: 0.241768\n",
      "Train Epoch: 4 [4608/6696 (64%)]\tLoss: 0.261725\n",
      "Train Epoch: 4 [520/6696 (93%)]\tLoss: 0.341987\n",
      "\n",
      "Test set: Average loss: 0.2476, Accuracy: 695/744 (93%)\n",
      "\n",
      "Train Epoch: 5 [2048/6696 (29%)]\tLoss: 0.163207\n",
      "Train Epoch: 5 [4608/6696 (64%)]\tLoss: 0.207238\n",
      "Train Epoch: 5 [520/6696 (93%)]\tLoss: 0.146260\n",
      "\n",
      "Test set: Average loss: 0.1857, Accuracy: 706/744 (95%)\n",
      "\n",
      "Train Epoch: 6 [2048/6696 (29%)]\tLoss: 0.117053\n",
      "Train Epoch: 6 [4608/6696 (64%)]\tLoss: 0.126276\n",
      "Train Epoch: 6 [520/6696 (93%)]\tLoss: 0.277820\n",
      "\n",
      "Test set: Average loss: 0.1708, Accuracy: 706/744 (95%)\n",
      "\n",
      "Train Epoch: 7 [2048/6696 (29%)]\tLoss: 0.111699\n",
      "Train Epoch: 7 [4608/6696 (64%)]\tLoss: 0.076840\n",
      "Train Epoch: 7 [520/6696 (93%)]\tLoss: 0.088298\n",
      "\n",
      "Test set: Average loss: 0.1615, Accuracy: 712/744 (96%)\n",
      "\n",
      "Train Epoch: 8 [2048/6696 (29%)]\tLoss: 0.071621\n",
      "Train Epoch: 8 [4608/6696 (64%)]\tLoss: 0.062482\n",
      "Train Epoch: 8 [520/6696 (93%)]\tLoss: 0.061487\n",
      "\n",
      "Test set: Average loss: 0.1411, Accuracy: 719/744 (97%)\n",
      "\n",
      "Train Epoch: 9 [2048/6696 (29%)]\tLoss: 0.074196\n",
      "Train Epoch: 9 [4608/6696 (64%)]\tLoss: 0.088357\n",
      "Train Epoch: 9 [520/6696 (93%)]\tLoss: 0.025179\n",
      "\n",
      "Test set: Average loss: 0.1257, Accuracy: 721/744 (97%)\n",
      "\n",
      "Train Epoch: 10 [2048/6696 (29%)]\tLoss: 0.050444\n",
      "Train Epoch: 10 [4608/6696 (64%)]\tLoss: 0.057770\n",
      "Train Epoch: 10 [520/6696 (93%)]\tLoss: 0.118243\n",
      "\n",
      "Test set: Average loss: 0.1327, Accuracy: 720/744 (97%)\n",
      "\n",
      "Train Epoch: 11 [2048/6696 (29%)]\tLoss: 0.048333\n",
      "Train Epoch: 11 [4608/6696 (64%)]\tLoss: 0.055330\n",
      "Train Epoch: 11 [520/6696 (93%)]\tLoss: 0.073614\n",
      "\n",
      "Test set: Average loss: 0.1377, Accuracy: 713/744 (96%)\n",
      "\n",
      "Train Epoch: 12 [2048/6696 (29%)]\tLoss: 0.038046\n",
      "Train Epoch: 12 [4608/6696 (64%)]\tLoss: 0.084419\n",
      "Train Epoch: 12 [520/6696 (93%)]\tLoss: 0.188869\n",
      "\n",
      "Test set: Average loss: 0.1249, Accuracy: 712/744 (96%)\n",
      "\n",
      "Train Epoch: 13 [2048/6696 (29%)]\tLoss: 0.045758\n",
      "Train Epoch: 13 [4608/6696 (64%)]\tLoss: 0.052303\n",
      "Train Epoch: 13 [520/6696 (93%)]\tLoss: 0.025429\n",
      "\n",
      "Test set: Average loss: 0.1132, Accuracy: 720/744 (97%)\n",
      "\n",
      "Train Epoch: 14 [2048/6696 (29%)]\tLoss: 0.038125\n",
      "Train Epoch: 14 [4608/6696 (64%)]\tLoss: 0.012321\n",
      "Train Epoch: 14 [520/6696 (93%)]\tLoss: 0.028635\n",
      "\n",
      "Test set: Average loss: 0.1065, Accuracy: 721/744 (97%)\n",
      "\n",
      "Train Epoch: 15 [2048/6696 (29%)]\tLoss: 0.035347\n",
      "Train Epoch: 15 [4608/6696 (64%)]\tLoss: 0.034910\n",
      "Train Epoch: 15 [520/6696 (93%)]\tLoss: 0.003709\n",
      "\n",
      "Test set: Average loss: 0.1091, Accuracy: 721/744 (97%)\n",
      "\n",
      "Train Epoch: 16 [2048/6696 (29%)]\tLoss: 0.012356\n",
      "Train Epoch: 16 [4608/6696 (64%)]\tLoss: 0.027266\n",
      "Train Epoch: 16 [520/6696 (93%)]\tLoss: 0.012005\n",
      "\n",
      "Test set: Average loss: 0.1106, Accuracy: 722/744 (97%)\n",
      "\n",
      "Train Epoch: 17 [2048/6696 (29%)]\tLoss: 0.016216\n",
      "Train Epoch: 17 [4608/6696 (64%)]\tLoss: 0.018656\n",
      "Train Epoch: 17 [520/6696 (93%)]\tLoss: 0.023452\n",
      "\n",
      "Test set: Average loss: 0.1128, Accuracy: 725/744 (97%)\n",
      "\n",
      "Train Epoch: 18 [2048/6696 (29%)]\tLoss: 0.012867\n",
      "Train Epoch: 18 [4608/6696 (64%)]\tLoss: 0.018907\n",
      "Train Epoch: 18 [520/6696 (93%)]\tLoss: 0.003361\n",
      "\n",
      "Test set: Average loss: 0.1044, Accuracy: 721/744 (97%)\n",
      "\n",
      "Train Epoch: 19 [2048/6696 (29%)]\tLoss: 0.010333\n",
      "Train Epoch: 19 [4608/6696 (64%)]\tLoss: 0.013060\n",
      "Train Epoch: 19 [520/6696 (93%)]\tLoss: 0.003372\n",
      "\n",
      "Test set: Average loss: 0.1122, Accuracy: 723/744 (97%)\n",
      "\n",
      "Train Epoch: 20 [2048/6696 (29%)]\tLoss: 0.008440\n",
      "Train Epoch: 20 [4608/6696 (64%)]\tLoss: 0.012262\n",
      "Train Epoch: 20 [520/6696 (93%)]\tLoss: 0.031583\n",
      "\n",
      "Test set: Average loss: 0.1188, Accuracy: 725/744 (97%)\n",
      "\n"
     ]
    }
   ],
   "source": [
    "for epoch in range(1, EPOCHS + 1):\n",
    "    train(model, DEVICE, trainLoader, optimizer, epoch)\n",
    "    test(model, DEVICE, testLoader)"
   ]
  },
  {
   "attachments": {},
   "cell_type": "markdown",
   "metadata": {},
   "source": [
    "# Dump Model"
   ]
  },
  {
   "cell_type": "code",
   "execution_count": null,
   "metadata": {},
   "outputs": [],
   "source": [
    "# save the model\n",
    "torch.save(model.state_dict(), 'cnnCharacterClassificaion.pt')"
   ]
  },
  {
   "attachments": {},
   "cell_type": "markdown",
   "metadata": {},
   "source": [
    "# Figure"
   ]
  },
  {
   "cell_type": "code",
   "execution_count": 124,
   "metadata": {},
   "outputs": [
    {
     "data": {
      "image/png": "[encoded data removed]",
      "text/plain": [
       "<Figure size 432x288 with 2 Axes>"
      ]
     },
     "metadata": {
      "needs_background": "light"
     },
     "output_type": "display_data"
    }
   ],
   "source": [
    "stepArray=[i+1 for i in range(EPOCHS)]\n",
    "fig = plt.figure()\n",
    "# plt.plot(stepArray,lossArray)\n",
    "ax1 = fig.add_subplot(121)\n",
    "l1=ax1.plot(stepArray, lossArray, color='red', label='Loss')\n",
    "plt.title('Loss')\n",
    "plt.legend()\n",
    "\n",
    "ax2=fig.add_subplot(122)\n",
    "l2=ax2.plot(stepArray,accuracyArray,color='blue',label='Accuracy')\n",
    "plt.title('Accuracy')\n",
    "plt.legend()\n",
    "plt.show()"
   ]
  }
 ],
 "metadata": {
  "kernelspec": {
   "display_name": "pytorch",
   "language": "python",
   "name": "python3"
  },
  "language_info": {
   "codemirror_mode": {
    "name": "ipython",
    "version": 3
   },
   "file_extension": ".py",
   "mimetype": "text/x-python",
   "name": "python",
   "nbconvert_exporter": "python",
   "pygments_lexer": "ipython3",
   "version": "3.7.16"
  },
  "orig_nbformat": 4
 },
 "nbformat": 4,
 "nbformat_minor": 2
}
