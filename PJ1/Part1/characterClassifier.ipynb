{
 "cells": [
  {
   "cell_type": "code",
   "execution_count": 43,
   "metadata": {},
   "outputs": [],
   "source": [
    "import cv2 as cv\n",
    "# import network\n",
    "import os\n",
    "import random\n",
    "import numpy as np\n",
    "from matplotlib import pyplot as plt\n",
    "from typing import Tuple\n",
    "class network:\n",
    "    def __init__(self, nodeNumber:tuple, learningRate:float,softmax=False,dropout=[]):\n",
    "        self.learningRate = learningRate\n",
    "        self.step=0\n",
    "        # self.target:np.array = np.zeros(outputNodeNumber)\n",
    "        self.enableSoftmax=softmax\n",
    "        self.dropout={}\n",
    "        for i in dropout:\n",
    "            self.dropout[i[0]]=i[1]\n",
    "        self.mask={}\n",
    "        self.nodeNumber=nodeNumber\n",
    "        self.layerNumber=len(nodeNumber)\n",
    "        self.layer=[]\n",
    "        for i in range(self.layerNumber):\n",
    "            self.layer.append(np.zeros((nodeNumber[i],1)))\n",
    "\n",
    "        self.weight=[]\n",
    "        self.const=[]\n",
    "        for i in range(self.layerNumber-1):\n",
    "            self.weight.append(np.random.uniform(-1, 1, (nodeNumber[i+1],nodeNumber[i]))/np.sqrt(nodeNumber[i]))\n",
    "            self.const.append(-np.random.uniform(-1,0,size=(nodeNumber[i+1],1)))\n",
    "        self.const[-1]=np.random.uniform(-0.2,0.2,(nodeNumber[-1],1))\n",
    "        \n",
    "        \n",
    "        print(\"init done\")\n",
    "        \n",
    "    def normalize(self,data:np.ndarray)->np.ndarray:\n",
    "        maxData = np.max(data)\n",
    "        minData = np.min(data)\n",
    "        return (data-minData)/(maxData-minData)    \n",
    "        \n",
    "    def denormalize(self, data:np.ndarray,min,max)->np.ndarray:\n",
    "        minData = np.min(data)\n",
    "        maxData = np.max(data)\n",
    "        return data / (maxData - minData) * (max - min) + min\n",
    "    \n",
    "    def sigmod(self,x:np.ndarray)->np.ndarray:\n",
    "        return 1/(1+np.exp(-x))\n",
    "    \n",
    "    def sigmodDerivative(self,f:np.ndarray)->np.ndarray:\n",
    "        return f*(1-f)\n",
    "    \n",
    "    def forwardPropagation(self,input:np.ndarray)->np.ndarray:\n",
    "        self.mask={}\n",
    "        self.layer[0]=input\n",
    "        for layerNumber in range(self.layerNumber-2):\n",
    "            self.layer[layerNumber+1]=self.weight[layerNumber].dot(self.layer[layerNumber])+self.const[layerNumber]\n",
    "            self.layer[layerNumber+1]=self.sigmod(self.layer[layerNumber+1])\n",
    "            if layerNumber+1 in self.dropout:\n",
    "                mask=np.random.binomial(1/(1-self.dropout[layerNumber+1]),1-self.dropout[layerNumber+1],size=self.layer[layerNumber+1].shape)\n",
    "                self.mask[layerNumber+1]=mask\n",
    "                self.layer[layerNumber+1]*=mask\n",
    "                # 把这个放到weight上\n",
    "        self.layer[-1]=self.weight[-1].dot(self.layer[-2])+self.const[-1]\n",
    "        if self.enableSoftmax:\n",
    "            self.layer[-1]=self.softmax(self.layer[-1])\n",
    "        else:\n",
    "            self.layer[-1]=self.sigmod(self.layer[-1])\n",
    "        return self.layer[-1]\n",
    "\n",
    "    def backPropagation(self,target:np.ndarray):\n",
    "        delta=[None]*(self.layerNumber)\n",
    "        if self.enableSoftmax:\n",
    "            delta[self.layerNumber-1]=(self.layer[-1]-target)/len(target)\n",
    "        else:\n",
    "            delta[self.layerNumber-1]=(self.layer[self.layerNumber-1]-target)*self.sigmodDerivative(self.layer[self.layerNumber-1])\n",
    "        for i in range(self.layerNumber-2,0,-1):\n",
    "            delta[i]=np.dot(self.weight[i].T,delta[i+1])*self.sigmodDerivative(self.layer[i])\n",
    "            # if i in self.mask:\n",
    "            #     delta[i]*=self.mask[i]\n",
    "        for i in range(self.layerNumber-1):\n",
    "            if i+1 in self.mask:\n",
    "                self.weight[i]-=self.learningRate*(delta[i+1]*self.mask[i+1]).dot(self.layer[i].T)\n",
    "            else:\n",
    "                self.weight[i]-=self.learningRate*delta[i+1].dot(self.layer[i].T)\n",
    "            self.const[i]-=self.learningRate*delta[i+1]\n",
    "        \n",
    "            \n",
    "    def error(self,output,target)->float:\n",
    "        return np.sum(np.square(target-output))/2\n",
    "    \n",
    "    def crossEntropy(self,output:np.ndarray,target:np.ndarray)->float:\n",
    "        return -np.average(target*np.log(output))\n",
    "    \n",
    "    def learningRateDecline(self):\n",
    "        self.learningRate /= (1+self.decay)\n",
    "        \n",
    "\n",
    "    def train(self,input:np.ndarray, target:np.ndarray)->float:\n",
    "        self.step+=1\n",
    "        output=self.forwardPropagation(input)\n",
    "        self.backPropagation(target)\n",
    "        self.learningRateDecline()\n",
    "        return self.error(output,target)\n",
    "        \n",
    "    def prepoccess(self,input:np.ndarray,normalize:bool=False,reshape=False)->np.ndarray:\n",
    "        if normalize:\n",
    "            input=self.normalize(input)\n",
    "        if reshape:\n",
    "            input=input.reshape((len(input),1))\n",
    "        return input\n",
    "    \n",
    "    def dump(self,filename:str):\n",
    "        np.savez(filename, x=np.array(self.weight, dtype=object),y=np.array(self.const, dtype=object), allow_pickle=True)\n",
    "        \n",
    "    def load(self,filename:str):\n",
    "        file=np.load(filename, allow_pickle=True)\n",
    "        self.weight=file[\"x\"]\n",
    "        self.const=file[\"y\"]\n",
    "        \n",
    "    def softmax(self,x:np.ndarray)->np.ndarray:\n",
    "        return np.exp(x)/np.sum(np.exp(x))"
   ]
  },
  {
   "cell_type": "code",
   "execution_count": 44,
   "metadata": {},
   "outputs": [
    {
     "name": "stdout",
     "output_type": "stream",
     "text": [
      "/Users/jiaruiye/Desktop/FDU/专业课程/必修课程/人工智能/Projects/PJ1/Part1/../train\n"
     ]
    }
   ],
   "source": [
    "curPath=os.path.abspath('')\n",
    "trainPath=curPath+\"/../train\"\n",
    "print(trainPath)\n",
    "def getImg(character:int,number:int)->Tuple[np.ndarray,np.ndarray]:\n",
    "    imgPath=trainPath+\"/\"+str(character)+\"/\"+str(number)+\".bmp\"\n",
    "    img=cv.imread(imgPath,0)\n",
    "    return imgPrepocess(img,character)\n",
    "\n",
    "def imgPrepocess(img:cv.Mat,character:int)->Tuple[np.ndarray,np.ndarray]:\n",
    "    ret=np.array(img).flatten()\n",
    "    out=np.zeros(12)\n",
    "    out[character-1]=1\n",
    "    return (ret&1,out)\n",
    "\n",
    "def showFig(stepArray,lossArray,accuracyArray):\n",
    "    fig = plt.figure()\n",
    "    # plt.plot(stepArray,lossArray)\n",
    "    ax1 = fig.add_subplot(121)\n",
    "    l1=ax1.plot(stepArray, lossArray, color='red', label='Loss')\n",
    "    plt.title('BP Loss')\n",
    "    plt.legend()\n",
    "    \n",
    "    ax2=fig.add_subplot(122)\n",
    "    l2=ax2.plot(stepArray,accuracyArray,color='blue',label='Accuracy')\n",
    "    plt.title('BP Accuracy')\n",
    "    plt.legend()\n",
    "    plt.show()\n",
    "    \n",
    "def test(net:network,testSet:list):\n",
    "    count=0\n",
    "    for i in testSet:\n",
    "        input,target=getImg(i[0],i[1])\n",
    "        input=net.prepoccess(input,reshape=True)\n",
    "        output=net.forwardPropagation(input)\n",
    "        if output.argmax()==i[0]-1:\n",
    "            count+=1\n",
    "    return count/len(testSet)\n",
    "               "
   ]
  },
  {
   "cell_type": "code",
   "execution_count": 45,
   "metadata": {},
   "outputs": [
    {
     "name": "stdout",
     "output_type": "stream",
     "text": [
      "init done\n"
     ]
    }
   ],
   "source": [
    "net=network((28**2,100,20,12),0.05,softmax=True)\n",
    "trainSet=[]\n",
    "for i in range(1,13):\n",
    "    for j in range(1,int(620*0.9+1)):\n",
    "        trainSet.append((i,j))\n",
    "testSet=[]\n",
    "for i in range(1,13):\n",
    "    for j in range(int(620*0.9+1),621):\n",
    "        testSet.append((i,j))\n",
    "trainSize=int(620*12*0.9)\n",
    "lossArray=[]\n",
    "stepArray=[]\n",
    "accuracyArray=[]\n",
    "lastLoss=0\n",
    "epoch=0\n"
   ]
  },
  {
   "cell_type": "code",
   "execution_count": 46,
   "metadata": {},
   "outputs": [],
   "source": [
    "net.load(curPath+\"/characterClassifier-80.npz\")"
   ]
  },
  {
   "cell_type": "code",
   "execution_count": 48,
   "metadata": {},
   "outputs": [
    {
     "name": "stdout",
     "output_type": "stream",
     "text": [
      "epoch=11 loss=9.885142150126062e-05 accuracy=0.9994026284348865 test accuracy=0.8723118279569892 lr=0.01\n",
      "epoch=12 loss=5.369676080953578e-05 accuracy=0.9994026284348865 test accuracy=0.8723118279569892 lr=0.01\n",
      "epoch=13 loss=0.000380820229491518 accuracy=0.9994026284348865 test accuracy=0.8736559139784946 lr=0.01\n",
      "epoch=14 loss=5.1931354795490975e-06 accuracy=0.9994026284348865 test accuracy=0.8696236559139785 lr=0.01\n",
      "epoch=15 loss=0.00027689631225963194 accuracy=0.9994026284348865 test accuracy=0.8696236559139785 lr=0.01\n",
      "epoch=16 loss=9.658342345433892e-06 accuracy=0.9994026284348865 test accuracy=0.8723118279569892 lr=0.01\n",
      "epoch=17 loss=1.963921729699996e-05 accuracy=0.9994026284348865 test accuracy=0.8723118279569892 lr=0.01\n",
      "epoch=18 loss=0.0011980880514744707 accuracy=0.9994026284348865 test accuracy=0.8682795698924731 lr=0.01\n",
      "epoch=19 loss=0.0015407430280433676 accuracy=0.9994026284348865 test accuracy=0.8682795698924731 lr=0.01\n",
      "epoch=20 loss=8.168604514283412e-05 accuracy=0.9994026284348865 test accuracy=0.8709677419354839 lr=0.01\n"
     ]
    }
   ],
   "source": [
    "for i in range(10):\n",
    "    try:\n",
    "        random.shuffle(trainSet)\n",
    "        # net.learningRate=np.cos(epoch/20*np.pi)*0.015+0.0151\n",
    "        net.learningRate=0.01\n",
    "        for item in trainSet:\n",
    "            input,target=getImg(item[0],item[1])\n",
    "            # j=random.randint(1,trainSize)\n",
    "            # input,target=getImg(dataSet[j][0],dataSet[j][1])\n",
    "            input,target=net.prepoccess(input,reshape=True),net.prepoccess(target,reshape=True)\n",
    "            # output=net.forwardPropagation(input)\n",
    "            output=net.forwardPropagation(input)\n",
    "            net.backPropagation(target)\n",
    "            net.step+=1\n",
    "            \n",
    "            \n",
    "        epoch=net.step/trainSize\n",
    "        loss=net.crossEntropy(output,target)\n",
    "        accuracy=test(net,trainSet)\n",
    "        lossArray.append(loss)\n",
    "        # stepArray.append(net.step)\n",
    "        stepArray.append(epoch)\n",
    "        accuracyArray.append(accuracy)\n",
    "        test_accuracy=test(net,testSet)\n",
    "        # print(\"step={} loss={} accuracy={}\".format(net.step,loss,accuracy))\n",
    "        print(\"epoch={} loss={} accuracy={} test accuracy={} lr={}\".format(int(epoch),loss,accuracy,test_accuracy,net.learningRate))\n",
    "        if abs(lastLoss-loss)<0.000001 and loss < 0.00001 and accuracy>0.99:\n",
    "            break\n",
    "        else:\n",
    "            lastLoss=loss\n",
    "    except KeyboardInterrupt:\n",
    "        break"
   ]
  },
  {
   "cell_type": "code",
   "execution_count": 11,
   "metadata": {},
   "outputs": [
    {
     "name": "stdout",
     "output_type": "stream",
     "text": [
      "Accuracy=66.97580645161291%\n"
     ]
    }
   ],
   "source": [
    "DataSet=[]\n",
    "for i in range(1,13):\n",
    "    for j in range(1,621):\n",
    "        DataSet.append((i,j))\n",
    "\n",
    "accuracy=test(net,DataSet)\n",
    "print(\"Accuracy={}%\".format(100.*accuracy))"
   ]
  },
  {
   "cell_type": "code",
   "execution_count": 35,
   "metadata": {},
   "outputs": [],
   "source": [
    "net.dump(curPath+\"/characterClassifier-80.npz\")"
   ]
  },
  {
   "cell_type": "code",
   "execution_count": 49,
   "metadata": {},
   "outputs": [
    {
     "data": {
      "image/png": "[encoded data removed]",
      "text/plain": [
       "<Figure size 432x288 with 2 Axes>"
      ]
     },
     "metadata": {
      "needs_background": "light"
     },
     "output_type": "display_data"
    }
   ],
   "source": [
    "showFig(stepArray,lossArray,accuracyArray)"
   ]
  }
 ],
 "metadata": {
  "kernelspec": {
   "display_name": "pytorch",
   "language": "python",
   "name": "python3"
  },
  "language_info": {
   "codemirror_mode": {
    "name": "ipython",
    "version": 3
   },
   "file_extension": ".py",
   "mimetype": "text/x-python",
   "name": "python",
   "nbconvert_exporter": "python",
   "pygments_lexer": "ipython3",
   "version": "3.7.16"
  },
  "orig_nbformat": 4,
  "vscode": {
   "interpreter": {
    "hash": "f5b916051ec391ef3c1c0123575e59cad2c35863d294dd079abc5845c0e5babb"
   }
  }
 },
 "nbformat": 4,
 "nbformat_minor": 2
}
